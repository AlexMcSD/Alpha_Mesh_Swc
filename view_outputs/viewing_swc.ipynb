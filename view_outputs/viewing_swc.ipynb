{
 "cells": [
  {
   "cell_type": "code",
   "execution_count": 1,
   "metadata": {},
   "outputs": [],
   "source": [
    "import numpy as np\n",
    "import matplotlib.pyplot as plt\n",
    "from alphaSwc.src import Swc\n",
    "%matplotlib qt\n",
    "plt.rc('font',size=15)"
   ]
  },
  {
   "cell_type": "code",
   "execution_count": 2,
   "metadata": {},
   "outputs": [],
   "source": [
    "def draw_sphere(ax,center,r):\n",
    "    # draw sphere\n",
    "    u, v = np.mgrid[0:2*np.pi:50j, 0:np.pi:50j]\n",
    "    x = center[0] + r*np.cos(u)*np.sin(v)\n",
    "    y = center[1] + r*np.sin(u)*np.sin(v)\n",
    "    z = center[2] + r*np.cos(v)\n",
    "    # alpha controls opacity\n",
    "    ax.plot_surface(x, y, z, color=\"r\", alpha=0.1)\n",
    "def plot_swc(swc):\n",
    "    fig = plt.figure()\n",
    "    p = swc.position_data\n",
    "    c = swc.conn_data\n",
    "    t = swc.type_data\n",
    "    soma_ind = t == 1\n",
    "    ax = fig.add_subplot(projection='3d')\n",
    "    soma_centers = p[soma_ind]\n",
    "    soma_radii = swc.radius_data[soma_ind]\n",
    "    for i,x in enumerate(soma_centers):\n",
    "        draw_sphere(ax,x,soma_radii[i])\n",
    "    \n",
    "    nodes = c[:,0]\n",
    "    source = c[:,1] == -1\n",
    "    segments = [(s[0],s[1]) for s in c if s[1] > -1 ]\n",
    "    for s in segments:\n",
    "        ax.plot(p[s,0],p[s,1],p[s,2],linestyle='dashed',color='black',linewidth=.5)\n",
    "    # ax.scatter(p[~source,0],p[~source,1],p[~source,2],s=5.0,color='blue')\n",
    "    ax.scatter(p[source,0],p[source,1],p[source,2],s=5.0,color='red')\n",
    "\n",
    "    plt.tight_layout()\n",
    "    ax.set_aspect('equal')\n",
    "    ax.set_xlabel('$x$')\n",
    "    ax.set_ylabel('$y$')\n",
    "    ax.set_zlabel('$z$')\n",
    "    plt.show()"
   ]
  },
  {
   "cell_type": "code",
   "execution_count": 3,
   "metadata": {},
   "outputs": [],
   "source": [
    "file = 'input/04b_spindle3aFI.swc'\n",
    "\n"
   ]
  },
  {
   "cell_type": "code",
   "execution_count": 4,
   "metadata": {},
   "outputs": [
    {
     "name": "stderr",
     "output_type": "stream",
     "text": [
      "c:\\Users\\amcsween\\Documents\\GitHub\\alphaSwc\\alphaSwc\\src\\swc.py:43: RuntimeWarning: Soma absent. Convert the first point to soma.\n",
      "  position_data , radius_data, conn_data , type_data,preamble = extract_swc(self.file)\n"
     ]
    },
    {
     "name": "stdout",
     "output_type": "stream",
     "text": [
      "0\n",
      "308\n",
      "312\n",
      "315\n",
      "491\n",
      "563\n",
      "579\n",
      "584\n",
      "700\n",
      "1227\n",
      "1233\n",
      "1237\n",
      "1515\n",
      "1522\n",
      "1527\n"
     ]
    }
   ],
   "source": [
    "swc = Swc(file,process=False,reorder=True)\n",
    "plot_swc(swc)\n",
    "\n"
   ]
  },
  {
   "cell_type": "code",
   "execution_count": null,
   "metadata": {},
   "outputs": [],
   "source": []
  }
 ],
 "metadata": {
  "kernelspec": {
   "display_name": "dmri-env",
   "language": "python",
   "name": "python3"
  },
  "language_info": {
   "codemirror_mode": {
    "name": "ipython",
    "version": 3
   },
   "file_extension": ".py",
   "mimetype": "text/x-python",
   "name": "python",
   "nbconvert_exporter": "python",
   "pygments_lexer": "ipython3",
   "version": "3.11.8"
  }
 },
 "nbformat": 4,
 "nbformat_minor": 2
}
